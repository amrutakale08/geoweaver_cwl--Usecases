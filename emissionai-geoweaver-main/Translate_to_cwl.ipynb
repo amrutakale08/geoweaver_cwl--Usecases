{
 "cells": [
  {
   "cell_type": "code",
   "execution_count": 1,
   "id": "0fb33bbb",
   "metadata": {},
   "outputs": [
    {
     "name": "stdout",
     "output_type": "stream",
     "text": [
      "Requirement already satisfied: geoweaver_cwl in /Users/amrutakale/opt/anaconda3/lib/python3.8/site-packages (0.0.9)\n",
      "\n",
      "\u001b[1m[\u001b[0m\u001b[34;49mnotice\u001b[0m\u001b[1;39;49m]\u001b[0m\u001b[39;49m A new release of pip available: \u001b[0m\u001b[31;49m22.1.2\u001b[0m\u001b[39;49m -> \u001b[0m\u001b[32;49m22.3.1\u001b[0m\n",
      "\u001b[1m[\u001b[0m\u001b[34;49mnotice\u001b[0m\u001b[1;39;49m]\u001b[0m\u001b[39;49m To update, run: \u001b[0m\u001b[32;49mpip install --upgrade pip\u001b[0m\n",
      "Note: you may need to restart the kernel to use updated packages.\n"
     ]
    }
   ],
   "source": [
    "pip install geoweaver_cwl"
   ]
  },
  {
   "cell_type": "code",
   "execution_count": 2,
   "id": "c28f7458",
   "metadata": {},
   "outputs": [],
   "source": [
    "from geoweaver_cwl import translator as tr\n",
    "tr.generate_cwl('workflow.json')\n",
    "tr.generate_yml('input.yml')"
   ]
  },
  {
   "cell_type": "code",
   "execution_count": 3,
   "id": "e99b5250",
   "metadata": {},
   "outputs": [
    {
     "name": "stdout",
     "output_type": "stream",
     "text": [
      "Output file: workflow.cwl\n",
      "Writing header...\n",
      "Writing steps...\n",
      "CWL file written to workflow.cwl\n"
     ]
    }
   ],
   "source": [
    "tr.generate_cwl('workflow.json')"
   ]
  },
  {
   "cell_type": "code",
   "execution_count": 4,
   "id": "5b95b7ec",
   "metadata": {},
   "outputs": [
    {
     "name": "stdout",
     "output_type": "stream",
     "text": [
      "Writing YML file...\n",
      "YML file created ...\n"
     ]
    }
   ],
   "source": [
    "tr.generate_yml('input.yml')"
   ]
  },
  {
   "cell_type": "code",
   "execution_count": null,
   "id": "87830fef",
   "metadata": {},
   "outputs": [],
   "source": []
  }
 ],
 "metadata": {
  "kernelspec": {
   "display_name": "Python 3",
   "language": "python",
   "name": "python3"
  },
  "language_info": {
   "codemirror_mode": {
    "name": "ipython",
    "version": 3
   },
   "file_extension": ".py",
   "mimetype": "text/x-python",
   "name": "python",
   "nbconvert_exporter": "python",
   "pygments_lexer": "ipython3",
   "version": "3.8.8"
  }
 },
 "nbformat": 4,
 "nbformat_minor": 5
}
